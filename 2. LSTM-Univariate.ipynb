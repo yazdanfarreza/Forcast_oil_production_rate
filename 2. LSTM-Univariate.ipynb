{
 "cells": [
  {
   "cell_type": "code",
   "execution_count": 1,
   "id": "ea348784",
   "metadata": {},
   "outputs": [],
   "source": [
    "import pandas as pd\n",
    "from math import sqrt\n",
    "import numpy as np\n",
    "import matplotlib.pyplot as plt\n",
    "from tensorflow.keras.layers import GRU,LSTM\n",
    "from pandas import Series\n",
    "from sklearn.preprocessing import MinMaxScaler\n",
    "from tensorflow.keras.models import Sequential\n",
    "from tensorflow.keras.layers import Dense,Dropout\n",
    "\n",
    "\n",
    "\n",
    "import warnings\n",
    "warnings.filterwarnings(\"ignore\")"
   ]
  },
  {
   "cell_type": "code",
   "execution_count": 2,
   "id": "dfd1625a",
   "metadata": {},
   "outputs": [],
   "source": [
    "look_back= 1\n",
    "neurons=[ 14 ,14 ]\n",
    "n_epoch=1"
   ]
  },
  {
   "cell_type": "code",
   "execution_count": 3,
   "id": "20269be5",
   "metadata": {},
   "outputs": [
    {
     "data": {
      "text/html": [
       "<div>\n",
       "<style scoped>\n",
       "    .dataframe tbody tr th:only-of-type {\n",
       "        vertical-align: middle;\n",
       "    }\n",
       "\n",
       "    .dataframe tbody tr th {\n",
       "        vertical-align: top;\n",
       "    }\n",
       "\n",
       "    .dataframe thead th {\n",
       "        text-align: right;\n",
       "    }\n",
       "</style>\n",
       "<table border=\"1\" class=\"dataframe\">\n",
       "  <thead>\n",
       "    <tr style=\"text-align: right;\">\n",
       "      <th></th>\n",
       "      <th>Time</th>\n",
       "      <th>WOPR</th>\n",
       "    </tr>\n",
       "  </thead>\n",
       "  <tbody>\n",
       "    <tr>\n",
       "      <th>0</th>\n",
       "      <td>0.0000</td>\n",
       "      <td>0.000000</td>\n",
       "    </tr>\n",
       "    <tr>\n",
       "      <th>1</th>\n",
       "      <td>1.0000</td>\n",
       "      <td>4378.811500</td>\n",
       "    </tr>\n",
       "    <tr>\n",
       "      <th>2</th>\n",
       "      <td>4.0000</td>\n",
       "      <td>4379.608400</td>\n",
       "    </tr>\n",
       "    <tr>\n",
       "      <th>3</th>\n",
       "      <td>8.0000</td>\n",
       "      <td>4380.397000</td>\n",
       "    </tr>\n",
       "    <tr>\n",
       "      <th>4</th>\n",
       "      <td>16.5000</td>\n",
       "      <td>5691.611800</td>\n",
       "    </tr>\n",
       "    <tr>\n",
       "      <th>...</th>\n",
       "      <td>...</td>\n",
       "      <td>...</td>\n",
       "    </tr>\n",
       "    <tr>\n",
       "      <th>1019</th>\n",
       "      <td>3300.1875</td>\n",
       "      <td>9535.396706</td>\n",
       "    </tr>\n",
       "    <tr>\n",
       "      <th>1020</th>\n",
       "      <td>3302.9219</td>\n",
       "      <td>9513.793438</td>\n",
       "    </tr>\n",
       "    <tr>\n",
       "      <th>1021</th>\n",
       "      <td>3306.3398</td>\n",
       "      <td>9481.340067</td>\n",
       "    </tr>\n",
       "    <tr>\n",
       "      <th>1022</th>\n",
       "      <td>3309.1699</td>\n",
       "      <td>9451.805301</td>\n",
       "    </tr>\n",
       "    <tr>\n",
       "      <th>1023</th>\n",
       "      <td>3312.0000</td>\n",
       "      <td>9421.933471</td>\n",
       "    </tr>\n",
       "  </tbody>\n",
       "</table>\n",
       "<p>1024 rows × 2 columns</p>\n",
       "</div>"
      ],
      "text/plain": [
       "           Time         WOPR\n",
       "0        0.0000     0.000000\n",
       "1        1.0000  4378.811500\n",
       "2        4.0000  4379.608400\n",
       "3        8.0000  4380.397000\n",
       "4       16.5000  5691.611800\n",
       "...         ...          ...\n",
       "1019  3300.1875  9535.396706\n",
       "1020  3302.9219  9513.793438\n",
       "1021  3306.3398  9481.340067\n",
       "1022  3309.1699  9451.805301\n",
       "1023  3312.0000  9421.933471\n",
       "\n",
       "[1024 rows x 2 columns]"
      ]
     },
     "execution_count": 3,
     "metadata": {},
     "output_type": "execute_result"
    }
   ],
   "source": [
    "df= pd.read_excel('WOPR.xlsx')\n",
    "Time = df['Time']\n",
    "df"
   ]
  },
  {
   "cell_type": "code",
   "execution_count": 4,
   "id": "ee03f87a",
   "metadata": {},
   "outputs": [],
   "source": [
    "# create a differenced series\n",
    "def difference(dataset, interval=1):\n",
    "    diff = list()\n",
    "    for i in range(interval, len(dataset)):\n",
    "        value = dataset[i] - dataset[i - interval]\n",
    "        diff.append(value)\n",
    "    return Series(diff)\n",
    "\n",
    "# invert differenced value\n",
    "def inverse_difference(history, yhat, interval=1):\n",
    "    return yhat + history[-interval]"
   ]
  },
  {
   "cell_type": "code",
   "execution_count": 5,
   "id": "356cfc5a",
   "metadata": {},
   "outputs": [],
   "source": [
    "# scale train and test data to [-1, 1]\n",
    "def scale(train, test):\n",
    "    # fit scaler\n",
    "    scaler = MinMaxScaler(feature_range=(-1, 1))\n",
    "    scaler = scaler.fit(train)\n",
    "    # transform train\n",
    "    train = train.reshape(train.shape[0], train.shape[1])\n",
    "    train_scaled = scaler.transform(train)\n",
    "    # transform test\n",
    "    test = test.reshape(test.shape[0], test.shape[1])\n",
    "    test_scaled = scaler.transform(test)\n",
    "    return scaler, train_scaled, test_scaled\n",
    "\n",
    "# inverse scaling for a forecasted value\n",
    "def invert_scale(scaler, X, value):\n",
    "    new_row = [x for x in X] + [value]\n",
    "    array = np.array(new_row)\n",
    "    array = array.reshape(1, len(array))\n",
    "    inverted = scaler.inverse_transform(array)\n",
    "    return inverted[0, -1]"
   ]
  },
  {
   "cell_type": "code",
   "execution_count": 6,
   "id": "275215c2",
   "metadata": {},
   "outputs": [],
   "source": [
    "# convert an array of values into a dataset matrix\n",
    "def create_dataset(dataset, look_back=1):\n",
    "    dataset = np.insert(dataset,[0]*look_back,0)    \n",
    "    dataX, dataY = [], []\n",
    "    for i in range(len(dataset)-look_back):\n",
    "        a = dataset[i:(i+look_back)]\n",
    "        dataX.append(a)\n",
    "        dataY.append(dataset[i + look_back])\n",
    "    dataY= np.array(dataY)        \n",
    "    dataY = np.reshape(dataY,(dataY.shape[0],1))\n",
    "    dataset = np.concatenate((dataX,dataY),axis=1)  \n",
    "    return dataset\n"
   ]
  },
  {
   "cell_type": "code",
   "execution_count": 7,
   "id": "bbecda7d",
   "metadata": {},
   "outputs": [],
   "source": [
    "#  RMSPE\n",
    "def RMSPE(x,y):\n",
    "    result=0\n",
    "    for i in range(len(x)):\n",
    "        result += ((x[i]-y[i])/x[i])**2\n",
    "    result /= len(x)\n",
    "    result = sqrt(result)\n",
    "    result *= 100\n",
    "    return result\n",
    "\n",
    "#  MAPE\n",
    "def MAPE(x,y):\n",
    "    result=0\n",
    "    for i in range(len(x)):\n",
    "        result += abs((x[i]-y[i])/x[i])\n",
    "    result /= len(x)\n",
    "    result *= 100\n",
    "    return result"
   ]
  },
  {
   "cell_type": "code",
   "execution_count": 8,
   "id": "000e4c5f",
   "metadata": {},
   "outputs": [],
   "source": [
    "# fit an LSTM network to training data\n",
    "def fit_lstm(train, batch_size, nb_epoch, neurons):\n",
    "    X, y = train[:, 0:-1], train[:, -1]\n",
    "    X = X.reshape(X.shape[0], X.shape[1],1 )\n",
    "    model = Sequential()\n",
    "    model.add(LSTM(neurons[0], batch_input_shape=(batch_size, X.shape[1], X.shape[2]), stateful=True,return_sequences=True))\n",
    "    model.add(Dropout(0.5))\n",
    "    model.add(LSTM(neurons[1], batch_input_shape=(batch_size, X.shape[1], X.shape[2]), stateful=True,return_sequences=True))\n",
    "    model.add(Dropout(0.5))\n",
    "    \n",
    "    model.add(Dense(3,'relu'))\n",
    "   \n",
    "    model.add(Dense(1))\n",
    "    model.compile(loss='mean_squared_error', optimizer='adam')\n",
    "    for i in range(nb_epoch):\n",
    "        print('epoch:',i+1)\n",
    "        model.fit(X, y, epochs=10, batch_size=batch_size, verbose=1, shuffle=False)\n",
    "        model.reset_states()\n",
    "    return model\n",
    "    \n",
    "# make a one-step forecast\n",
    "def forecast_lstm(model, batch_size, X):\n",
    "    X = X.reshape(1, len(X), 1)\n",
    "    yhat = model.predict(X, batch_size=batch_size)\n",
    "    return yhat[0,0]"
   ]
  },
  {
   "cell_type": "code",
   "execution_count": 9,
   "id": "47fdc039",
   "metadata": {},
   "outputs": [],
   "source": [
    "df.set_index(\"Time\", inplace=True)\n",
    "series=df"
   ]
  },
  {
   "cell_type": "code",
   "execution_count": 10,
   "id": "fa7f4202",
   "metadata": {},
   "outputs": [],
   "source": [
    "raw_values = series.values\n",
    "# transform data to be stationary\n",
    "diff = difference(raw_values, 1)\n",
    "# create dataset x,y\n",
    "dataset = diff.values\n",
    "dataset = create_dataset(dataset,look_back)\n"
   ]
  },
  {
   "cell_type": "code",
   "execution_count": 11,
   "id": "0ede6071",
   "metadata": {
    "scrolled": false
   },
   "outputs": [
    {
     "name": "stdout",
     "output_type": "stream",
     "text": [
      "epoch: 1\n",
      "Epoch 1/10\n",
      "818/818 [==============================] - 11s 8ms/step - loss: 0.0139\n",
      "Epoch 2/10\n",
      "818/818 [==============================] - 6s 7ms/step - loss: 0.0134\n",
      "Epoch 3/10\n",
      "818/818 [==============================] - 6s 7ms/step - loss: 0.0138\n",
      "Epoch 4/10\n",
      "818/818 [==============================] - 6s 7ms/step - loss: 0.0138\n",
      "Epoch 5/10\n",
      "818/818 [==============================] - 6s 7ms/step - loss: 0.0138\n",
      "Epoch 6/10\n",
      "818/818 [==============================] - 6s 7ms/step - loss: 0.0137\n",
      "Epoch 7/10\n",
      "818/818 [==============================] - 6s 7ms/step - loss: 0.0138\n",
      "Epoch 8/10\n",
      "818/818 [==============================] - 6s 7ms/step - loss: 0.0138\n",
      "Epoch 9/10\n",
      "818/818 [==============================] - 6s 7ms/step - loss: 0.0138\n",
      "Epoch 10/10\n",
      "818/818 [==============================] - 6s 7ms/step - loss: 0.0138\n"
     ]
    }
   ],
   "source": [
    "\n",
    "# split into train and test sets\n",
    "train_size = int(dataset.shape[0] * 0.8)\n",
    "test_size = dataset.shape[0] - train_size\n",
    "train, test = dataset[0:train_size], dataset[train_size:]\n",
    "\n",
    "\n",
    "# transform the scale of the data\n",
    "scaler, train_scaled, test_scaled = scale(train, test)\n",
    "\n",
    "\n",
    "\n",
    "# fit the model\n",
    "lstm_model = fit_lstm(train_scaled, 1, n_epoch, neurons)"
   ]
  },
  {
   "cell_type": "code",
   "execution_count": 12,
   "id": "9f7583dd",
   "metadata": {
    "scrolled": true
   },
   "outputs": [],
   "source": [
    "# forecast the entire training dataset to build up state for forecasting\n",
    "predictions_train = list()\n",
    "for i in range(len(train_scaled)):\n",
    "    # make one-step forecast\n",
    "    X, y = train_scaled[i, 0:-1], train_scaled[i, -1]\n",
    "    yhat = forecast_lstm(lstm_model, 1, X)\n",
    "    # invert scaling\n",
    "    yhat = invert_scale(scaler, X, yhat)\n",
    "    # invert differencing\n",
    "    yhat = inverse_difference(raw_values, yhat, len(raw_values)-i)\n",
    "    # store forecast\n",
    "    predictions_train.append(yhat)"
   ]
  },
  {
   "cell_type": "code",
   "execution_count": 13,
   "id": "fdfa6260",
   "metadata": {},
   "outputs": [],
   "source": [
    "# forecast the test data\n",
    "predictions_test = list()\n",
    "for i in range(len(test_scaled)):\n",
    "    # make one-step forecast\n",
    "    X, y = test_scaled[i, 0:-1], test_scaled[i, -1]\n",
    "    yhat = forecast_lstm(lstm_model, 1, X)\n",
    "    # invert scaling\n",
    "    yhat = invert_scale(scaler, X, yhat)\n",
    "    # invert differencing\n",
    "    yhat = inverse_difference(raw_values, yhat, len(test_scaled)+1-i)\n",
    "    # store forecast\n",
    "    predictions_test.append(yhat)\n",
    "    #expected = raw_values[len(train) + i + 1]\n",
    "   # print('Number%d, Predicted=%f, Expected=%f' % (i+1, yhat, expected))"
   ]
  },
  {
   "cell_type": "code",
   "execution_count": 14,
   "id": "e2887133",
   "metadata": {},
   "outputs": [
    {
     "name": "stdout",
     "output_type": "stream",
     "text": [
      "Test RMSE: 5.7844\n",
      "Test MAPE: 2.22771\n"
     ]
    }
   ],
   "source": [
    "\n",
    "rmspe_test = RMSPE(raw_values[-len(test_scaled):],predictions_test)\n",
    "print('Test RMSE: %.4f' % rmspe_test)\n",
    "MAPE_test = MAPE(raw_values[-len(test_scaled):], predictions_test)\n",
    "print('Test MAPE: %.5f' % MAPE_test)\n",
    "\n",
    "predictions = np.concatenate((predictions_train,predictions_test),axis=0)"
   ]
  },
  {
   "cell_type": "code",
   "execution_count": 15,
   "id": "a703b2d5",
   "metadata": {},
   "outputs": [
    {
     "data": {
      "image/png": "[encoded data removed]",
      "text/plain": [
       "<Figure size 432x288 with 1 Axes>"
      ]
     },
     "metadata": {
      "needs_background": "light"
     },
     "output_type": "display_data"
    }
   ],
   "source": [
    "# line plot of observed vs predicted\n",
    "fig, ax = plt.subplots(1)\n",
    "ax.plot(raw_values, label='original', color='blue')\n",
    "ax.plot(predictions, label='predictions', color='red')\n",
    "ax.axvline(x=len(train_scaled)+1,color='k', linestyle='--')\n",
    "ax.legend(loc='upper right')\n",
    "ax.set_xlabel('Time',fontsize = 16)\n",
    "ax.set_ylabel('oil production ',fontsize = 16)\n",
    "plt.show()\n"
   ]
  },
  {
   "cell_type": "code",
   "execution_count": null,
   "id": "eba5e821",
   "metadata": {},
   "outputs": [],
   "source": []
  },
  {
   "cell_type": "code",
   "execution_count": null,
   "id": "ea6132fe",
   "metadata": {},
   "outputs": [],
   "source": []
  }
 ],
 "metadata": {
  "kernelspec": {
   "display_name": "Python 3 (ipykernel)",
   "language": "python",
   "name": "python3"
  },
  "language_info": {
   "codemirror_mode": {
    "name": "ipython",
    "version": 3
   },
   "file_extension": ".py",
   "mimetype": "text/x-python",
   "name": "python",
   "nbconvert_exporter": "python",
   "pygments_lexer": "ipython3",
   "version": "3.7.11"
  }
 },
 "nbformat": 4,
 "nbformat_minor": 5
}
